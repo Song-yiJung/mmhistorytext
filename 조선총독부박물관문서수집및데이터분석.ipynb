{
  "nbformat": 4,
  "nbformat_minor": 0,
  "metadata": {
    "colab": {
      "provenance": [],
      "authorship_tag": "ABX9TyMJOINWTifSGcLGQKz+5Oli",
      "include_colab_link": true
    },
    "kernelspec": {
      "name": "python3",
      "display_name": "Python 3"
    },
    "language_info": {
      "name": "python"
    }
  },
  "cells": [
    {
      "cell_type": "markdown",
      "metadata": {
        "id": "view-in-github",
        "colab_type": "text"
      },
      "source": [
        "<a href=\"https://colab.research.google.com/github/Song-yiJung/mmhistorytext/blob/main/%EC%A1%B0%EC%84%A0%EC%B4%9D%EB%8F%85%EB%B6%80%EB%B0%95%EB%AC%BC%EA%B4%80%EB%AC%B8%EC%84%9C%EC%88%98%EC%A7%91%EB%B0%8F%EB%8D%B0%EC%9D%B4%ED%84%B0%EB%B6%84%EC%84%9D.ipynb\" target=\"_parent\"><img src=\"https://colab.research.google.com/assets/colab-badge.svg\" alt=\"Open In Colab\"/></a>"
      ]
    },
    {
      "cell_type": "markdown",
      "source": [
        "# 웹스크래핑"
      ],
      "metadata": {
        "id": "5H8LSijROQDe"
      }
    },
    {
      "cell_type": "code",
      "execution_count": null,
      "metadata": {
        "id": "QDLjaIpwpwdY"
      },
      "outputs": [],
      "source": [
        "import requests\n",
        "from bs4 import BeautifulSoup\n",
        "import pandas as pd\n",
        "\n",
        "# 기본 URL 설정\n",
        "base_url = 'https://www.museum.go.kr/modern-history/doc.do?pseq={}'\n",
        "pseq_range = range(6000, 6390)  # pseq 범위 (샘플: 1~200)\n",
        "#6001부터 시작하기\n",
        "\n",
        "# 결과 저장 리스트 초기화\n",
        "data = []\n",
        "\n",
        "# 데이터 추출 함수\n",
        "def scrape_page(pseq):\n",
        "    url = base_url.format(pseq)\n",
        "    response = requests.get(url)\n",
        "    if response.status_code != 200:\n",
        "        print(f\"Failed to fetch {url}\")\n",
        "        return\n",
        "\n",
        "    soup = BeautifulSoup(response.text, 'html.parser')\n",
        "\n",
        "    # h2 데이터 추출 (XPath: //*[@id=\"container\"]/div/div[2]/div[1]/h2)\n",
        "    h2_element = soup.select_one('#container > div > div:nth-of-type(2) > div:nth-of-type(1) > h2')\n",
        "    h2_text = h2_element.text.strip() if h2_element else \"N/A\"\n",
        "\n",
        "    # 문서 목록 테이블 추출\n",
        "    table_rows = soup.select('table tr')  # 테이블 행 선택자\n",
        "    for row in table_rows[1:]:  # 첫 번째 행은 헤더이므로 제외\n",
        "        cols = row.find_all('td')\n",
        "        if len(cols) >= 3:  # 필요한 열 개수 확인\n",
        "            doc_title = cols[0].text.strip()\n",
        "            doc_type = cols[1].text.strip()\n",
        "            pages = cols[2].text.strip()\n",
        "            data.append({\n",
        "                'H2 Title': h2_text,\n",
        "                'Document Title': doc_title,\n",
        "                'Type': doc_type,\n",
        "                'Pages': pages,\n",
        "                'URL': url\n",
        "            })\n",
        "\n",
        "# 페이지 순회 및 데이터 수집\n",
        "for pseq in pseq_range:\n",
        "    print(f\"Scraping pseq={pseq}...\")\n",
        "    scrape_page(pseq)\n",
        "\n",
        "# DataFrame 생성 및 CSV 저장\n",
        "df = pd.DataFrame(data)\n",
        "output_file = 'museum_data_sample.csv'\n",
        "df.to_csv(output_file, index=False, encoding='utf-8-sig')\n",
        "\n",
        "print(f\"Data saved to {output_file}\")"
      ]
    },
    {
      "cell_type": "markdown",
      "source": [
        "# 웹스크래핑 결과 파일들 업로드"
      ],
      "metadata": {
        "id": "1m32mHrCOVWc"
      }
    },
    {
      "cell_type": "code",
      "source": [
        "from google.colab import files\n",
        "\n",
        "# 파일 업로드\n",
        "uploaded = files.upload()\n",
        "\n",
        "# 업로드된 파일 이름 리스트 출력\n",
        "file_list = list(uploaded.keys())\n",
        "print(\"업로드한 파일 목록:\")\n",
        "print(file_list)"
      ],
      "metadata": {
        "colab": {
          "base_uri": "https://localhost:8080/",
          "height": 280
        },
        "id": "Ghrbvjugpxle",
        "outputId": "34bb3f5f-3e93-48f5-be0f-1a9fb5f53687"
      },
      "execution_count": null,
      "outputs": [
        {
          "output_type": "display_data",
          "data": {
            "text/plain": [
              "<IPython.core.display.HTML object>"
            ],
            "text/html": [
              "\n",
              "     <input type=\"file\" id=\"files-4dc39887-009f-4638-9ed8-4acc77caee14\" name=\"files[]\" multiple disabled\n",
              "        style=\"border:none\" />\n",
              "     <output id=\"result-4dc39887-009f-4638-9ed8-4acc77caee14\">\n",
              "      Upload widget is only available when the cell has been executed in the\n",
              "      current browser session. Please rerun this cell to enable.\n",
              "      </output>\n",
              "      <script>// Copyright 2017 Google LLC\n",
              "//\n",
              "// Licensed under the Apache License, Version 2.0 (the \"License\");\n",
              "// you may not use this file except in compliance with the License.\n",
              "// You may obtain a copy of the License at\n",
              "//\n",
              "//      http://www.apache.org/licenses/LICENSE-2.0\n",
              "//\n",
              "// Unless required by applicable law or agreed to in writing, software\n",
              "// distributed under the License is distributed on an \"AS IS\" BASIS,\n",
              "// WITHOUT WARRANTIES OR CONDITIONS OF ANY KIND, either express or implied.\n",
              "// See the License for the specific language governing permissions and\n",
              "// limitations under the License.\n",
              "\n",
              "/**\n",
              " * @fileoverview Helpers for google.colab Python module.\n",
              " */\n",
              "(function(scope) {\n",
              "function span(text, styleAttributes = {}) {\n",
              "  const element = document.createElement('span');\n",
              "  element.textContent = text;\n",
              "  for (const key of Object.keys(styleAttributes)) {\n",
              "    element.style[key] = styleAttributes[key];\n",
              "  }\n",
              "  return element;\n",
              "}\n",
              "\n",
              "// Max number of bytes which will be uploaded at a time.\n",
              "const MAX_PAYLOAD_SIZE = 100 * 1024;\n",
              "\n",
              "function _uploadFiles(inputId, outputId) {\n",
              "  const steps = uploadFilesStep(inputId, outputId);\n",
              "  const outputElement = document.getElementById(outputId);\n",
              "  // Cache steps on the outputElement to make it available for the next call\n",
              "  // to uploadFilesContinue from Python.\n",
              "  outputElement.steps = steps;\n",
              "\n",
              "  return _uploadFilesContinue(outputId);\n",
              "}\n",
              "\n",
              "// This is roughly an async generator (not supported in the browser yet),\n",
              "// where there are multiple asynchronous steps and the Python side is going\n",
              "// to poll for completion of each step.\n",
              "// This uses a Promise to block the python side on completion of each step,\n",
              "// then passes the result of the previous step as the input to the next step.\n",
              "function _uploadFilesContinue(outputId) {\n",
              "  const outputElement = document.getElementById(outputId);\n",
              "  const steps = outputElement.steps;\n",
              "\n",
              "  const next = steps.next(outputElement.lastPromiseValue);\n",
              "  return Promise.resolve(next.value.promise).then((value) => {\n",
              "    // Cache the last promise value to make it available to the next\n",
              "    // step of the generator.\n",
              "    outputElement.lastPromiseValue = value;\n",
              "    return next.value.response;\n",
              "  });\n",
              "}\n",
              "\n",
              "/**\n",
              " * Generator function which is called between each async step of the upload\n",
              " * process.\n",
              " * @param {string} inputId Element ID of the input file picker element.\n",
              " * @param {string} outputId Element ID of the output display.\n",
              " * @return {!Iterable<!Object>} Iterable of next steps.\n",
              " */\n",
              "function* uploadFilesStep(inputId, outputId) {\n",
              "  const inputElement = document.getElementById(inputId);\n",
              "  inputElement.disabled = false;\n",
              "\n",
              "  const outputElement = document.getElementById(outputId);\n",
              "  outputElement.innerHTML = '';\n",
              "\n",
              "  const pickedPromise = new Promise((resolve) => {\n",
              "    inputElement.addEventListener('change', (e) => {\n",
              "      resolve(e.target.files);\n",
              "    });\n",
              "  });\n",
              "\n",
              "  const cancel = document.createElement('button');\n",
              "  inputElement.parentElement.appendChild(cancel);\n",
              "  cancel.textContent = 'Cancel upload';\n",
              "  const cancelPromise = new Promise((resolve) => {\n",
              "    cancel.onclick = () => {\n",
              "      resolve(null);\n",
              "    };\n",
              "  });\n",
              "\n",
              "  // Wait for the user to pick the files.\n",
              "  const files = yield {\n",
              "    promise: Promise.race([pickedPromise, cancelPromise]),\n",
              "    response: {\n",
              "      action: 'starting',\n",
              "    }\n",
              "  };\n",
              "\n",
              "  cancel.remove();\n",
              "\n",
              "  // Disable the input element since further picks are not allowed.\n",
              "  inputElement.disabled = true;\n",
              "\n",
              "  if (!files) {\n",
              "    return {\n",
              "      response: {\n",
              "        action: 'complete',\n",
              "      }\n",
              "    };\n",
              "  }\n",
              "\n",
              "  for (const file of files) {\n",
              "    const li = document.createElement('li');\n",
              "    li.append(span(file.name, {fontWeight: 'bold'}));\n",
              "    li.append(span(\n",
              "        `(${file.type || 'n/a'}) - ${file.size} bytes, ` +\n",
              "        `last modified: ${\n",
              "            file.lastModifiedDate ? file.lastModifiedDate.toLocaleDateString() :\n",
              "                                    'n/a'} - `));\n",
              "    const percent = span('0% done');\n",
              "    li.appendChild(percent);\n",
              "\n",
              "    outputElement.appendChild(li);\n",
              "\n",
              "    const fileDataPromise = new Promise((resolve) => {\n",
              "      const reader = new FileReader();\n",
              "      reader.onload = (e) => {\n",
              "        resolve(e.target.result);\n",
              "      };\n",
              "      reader.readAsArrayBuffer(file);\n",
              "    });\n",
              "    // Wait for the data to be ready.\n",
              "    let fileData = yield {\n",
              "      promise: fileDataPromise,\n",
              "      response: {\n",
              "        action: 'continue',\n",
              "      }\n",
              "    };\n",
              "\n",
              "    // Use a chunked sending to avoid message size limits. See b/62115660.\n",
              "    let position = 0;\n",
              "    do {\n",
              "      const length = Math.min(fileData.byteLength - position, MAX_PAYLOAD_SIZE);\n",
              "      const chunk = new Uint8Array(fileData, position, length);\n",
              "      position += length;\n",
              "\n",
              "      const base64 = btoa(String.fromCharCode.apply(null, chunk));\n",
              "      yield {\n",
              "        response: {\n",
              "          action: 'append',\n",
              "          file: file.name,\n",
              "          data: base64,\n",
              "        },\n",
              "      };\n",
              "\n",
              "      let percentDone = fileData.byteLength === 0 ?\n",
              "          100 :\n",
              "          Math.round((position / fileData.byteLength) * 100);\n",
              "      percent.textContent = `${percentDone}% done`;\n",
              "\n",
              "    } while (position < fileData.byteLength);\n",
              "  }\n",
              "\n",
              "  // All done.\n",
              "  yield {\n",
              "    response: {\n",
              "      action: 'complete',\n",
              "    }\n",
              "  };\n",
              "}\n",
              "\n",
              "scope.google = scope.google || {};\n",
              "scope.google.colab = scope.google.colab || {};\n",
              "scope.google.colab._files = {\n",
              "  _uploadFiles,\n",
              "  _uploadFilesContinue,\n",
              "};\n",
              "})(self);\n",
              "</script> "
            ]
          },
          "metadata": {}
        },
        {
          "output_type": "stream",
          "name": "stdout",
          "text": [
            "Saving museum_data_sample1_1000.xlsx to museum_data_sample1_1000 (1).xlsx\n",
            "Saving museum_data_sample1000_2000.xlsx to museum_data_sample1000_2000 (1).xlsx\n",
            "Saving museum_data_sample2000_5000.xlsx to museum_data_sample2000_5000 (1).xlsx\n",
            "Saving museum_data_sample5001_6000.xlsx to museum_data_sample5001_6000 (1).xlsx\n",
            "Saving museum_data_sample6000_6389.xlsx to museum_data_sample6000_6389 (1).xlsx\n",
            "업로드한 파일 목록:\n",
            "['museum_data_sample1_1000 (1).xlsx', 'museum_data_sample1000_2000 (1).xlsx', 'museum_data_sample2000_5000 (1).xlsx', 'museum_data_sample5001_6000 (1).xlsx', 'museum_data_sample6000_6389 (1).xlsx']\n"
          ]
        }
      ]
    },
    {
      "cell_type": "markdown",
      "source": [
        "# 한글 한자 토큰화에 필요한 모듈 설치"
      ],
      "metadata": {
        "id": "2IpYlgi8OoQ5"
      }
    },
    {
      "source": [
        "!pip install kiwipiepy # This line installs the kiwipiepy module.\n",
        "import pandas as pd\n",
        "\n",
        "# kiwi 로드\n",
        "from kiwipiepy import Kiwi\n",
        "kiwi = Kiwi()\n",
        "from kiwipiepy.sw_tokenizer import SwTokenizer\n",
        "from kiwipiepy.sw_tokenizer import SwTokenizerConfig\n",
        "import gc\n",
        "# Install the hanja module\n",
        "!pip install hanja\n",
        "import hanja\n",
        "import pickle\n",
        "import bz2"
      ],
      "cell_type": "code",
      "metadata": {
        "colab": {
          "base_uri": "https://localhost:8080/"
        },
        "id": "GoAG6fL-EX9U",
        "outputId": "ca2247a3-38ce-4928-d0b8-31596e098525"
      },
      "execution_count": null,
      "outputs": [
        {
          "output_type": "stream",
          "name": "stdout",
          "text": [
            "Collecting kiwipiepy\n",
            "  Downloading kiwipiepy-0.20.2-cp310-cp310-manylinux_2_17_x86_64.manylinux2014_x86_64.whl.metadata (1.1 kB)\n",
            "Collecting kiwipiepy-model<0.21,>=0.20 (from kiwipiepy)\n",
            "  Downloading kiwipiepy_model-0.20.0.tar.gz (34.7 MB)\n",
            "\u001b[2K     \u001b[90m━━━━━━━━━━━━━━━━━━━━━━━━━━━━━━━━━━━━━━━━\u001b[0m \u001b[32m34.7/34.7 MB\u001b[0m \u001b[31m36.3 MB/s\u001b[0m eta \u001b[36m0:00:00\u001b[0m\n",
            "\u001b[?25h  Preparing metadata (setup.py) ... \u001b[?25l\u001b[?25hdone\n",
            "Requirement already satisfied: tqdm in /usr/local/lib/python3.10/dist-packages (from kiwipiepy) (4.66.6)\n",
            "Requirement already satisfied: numpy in /usr/local/lib/python3.10/dist-packages (from kiwipiepy) (1.26.4)\n",
            "Downloading kiwipiepy-0.20.2-cp310-cp310-manylinux_2_17_x86_64.manylinux2014_x86_64.whl (3.5 MB)\n",
            "\u001b[2K   \u001b[90m━━━━━━━━━━━━━━━━━━━━━━━━━━━━━━━━━━━━━━━━\u001b[0m \u001b[32m3.5/3.5 MB\u001b[0m \u001b[31m52.1 MB/s\u001b[0m eta \u001b[36m0:00:00\u001b[0m\n",
            "\u001b[?25hBuilding wheels for collected packages: kiwipiepy-model\n",
            "  Building wheel for kiwipiepy-model (setup.py) ... \u001b[?25l\u001b[?25hdone\n",
            "  Created wheel for kiwipiepy-model: filename=kiwipiepy_model-0.20.0-py3-none-any.whl size=34818026 sha256=f68cfb327ecd7da0588c5b3c37cc7c7feca638ef2a9899c9a8ce75e7cafd2830\n",
            "  Stored in directory: /root/.cache/pip/wheels/b6/b1/66/2be9840f8ef3627d63d93503d81a5e3b41e9498dcb63b00b13\n",
            "Successfully built kiwipiepy-model\n",
            "Installing collected packages: kiwipiepy-model, kiwipiepy\n",
            "Successfully installed kiwipiepy-0.20.2 kiwipiepy-model-0.20.0\n",
            "Collecting hanja\n",
            "  Downloading hanja-0.15.1-py3-none-any.whl.metadata (3.5 kB)\n",
            "Collecting pyyaml==6.0.1 (from hanja)\n",
            "  Downloading PyYAML-6.0.1-cp310-cp310-manylinux_2_17_x86_64.manylinux2014_x86_64.whl.metadata (2.1 kB)\n",
            "Requirement already satisfied: pytest in /usr/local/lib/python3.10/dist-packages (from hanja) (8.3.4)\n",
            "Collecting pytest-cov (from hanja)\n",
            "  Downloading pytest_cov-6.0.0-py3-none-any.whl.metadata (27 kB)\n",
            "Collecting coveralls (from hanja)\n",
            "  Downloading coveralls-4.0.1-py3-none-any.whl.metadata (5.3 kB)\n",
            "Collecting coverage!=6.0.*,!=6.1,!=6.1.1,<8.0,>=5.0 (from coverage[toml]!=6.0.*,!=6.1,!=6.1.1,<8.0,>=5.0->coveralls->hanja)\n",
            "  Downloading coverage-7.6.9-cp310-cp310-manylinux_2_5_x86_64.manylinux1_x86_64.manylinux_2_17_x86_64.manylinux2014_x86_64.whl.metadata (8.2 kB)\n",
            "Collecting docopt<0.7.0,>=0.6.1 (from coveralls->hanja)\n",
            "  Downloading docopt-0.6.2.tar.gz (25 kB)\n",
            "  Preparing metadata (setup.py) ... \u001b[?25l\u001b[?25hdone\n",
            "Requirement already satisfied: requests<3.0.0,>=1.0.0 in /usr/local/lib/python3.10/dist-packages (from coveralls->hanja) (2.32.3)\n",
            "Requirement already satisfied: exceptiongroup>=1.0.0rc8 in /usr/local/lib/python3.10/dist-packages (from pytest->hanja) (1.2.2)\n",
            "Requirement already satisfied: iniconfig in /usr/local/lib/python3.10/dist-packages (from pytest->hanja) (2.0.0)\n",
            "Requirement already satisfied: packaging in /usr/local/lib/python3.10/dist-packages (from pytest->hanja) (24.2)\n",
            "Requirement already satisfied: pluggy<2,>=1.5 in /usr/local/lib/python3.10/dist-packages (from pytest->hanja) (1.5.0)\n",
            "Requirement already satisfied: tomli>=1 in /usr/local/lib/python3.10/dist-packages (from pytest->hanja) (2.2.1)\n",
            "Requirement already satisfied: charset-normalizer<4,>=2 in /usr/local/lib/python3.10/dist-packages (from requests<3.0.0,>=1.0.0->coveralls->hanja) (3.4.0)\n",
            "Requirement already satisfied: idna<4,>=2.5 in /usr/local/lib/python3.10/dist-packages (from requests<3.0.0,>=1.0.0->coveralls->hanja) (3.10)\n",
            "Requirement already satisfied: urllib3<3,>=1.21.1 in /usr/local/lib/python3.10/dist-packages (from requests<3.0.0,>=1.0.0->coveralls->hanja) (2.2.3)\n",
            "Requirement already satisfied: certifi>=2017.4.17 in /usr/local/lib/python3.10/dist-packages (from requests<3.0.0,>=1.0.0->coveralls->hanja) (2024.8.30)\n",
            "Downloading hanja-0.15.1-py3-none-any.whl (124 kB)\n",
            "\u001b[2K   \u001b[90m━━━━━━━━━━━━━━━━━━━━━━━━━━━━━━━━━━━━━━━━\u001b[0m \u001b[32m124.3/124.3 kB\u001b[0m \u001b[31m9.9 MB/s\u001b[0m eta \u001b[36m0:00:00\u001b[0m\n",
            "\u001b[?25hDownloading PyYAML-6.0.1-cp310-cp310-manylinux_2_17_x86_64.manylinux2014_x86_64.whl (705 kB)\n",
            "\u001b[2K   \u001b[90m━━━━━━━━━━━━━━━━━━━━━━━━━━━━━━━━━━━━━━━━\u001b[0m \u001b[32m705.5/705.5 kB\u001b[0m \u001b[31m22.5 MB/s\u001b[0m eta \u001b[36m0:00:00\u001b[0m\n",
            "\u001b[?25hDownloading coveralls-4.0.1-py3-none-any.whl (13 kB)\n",
            "Downloading pytest_cov-6.0.0-py3-none-any.whl (22 kB)\n",
            "Downloading coverage-7.6.9-cp310-cp310-manylinux_2_5_x86_64.manylinux1_x86_64.manylinux_2_17_x86_64.manylinux2014_x86_64.whl (234 kB)\n",
            "\u001b[2K   \u001b[90m━━━━━━━━━━━━━━━━━━━━━━━━━━━━━━━━━━━━━━━━\u001b[0m \u001b[32m235.0/235.0 kB\u001b[0m \u001b[31m16.2 MB/s\u001b[0m eta \u001b[36m0:00:00\u001b[0m\n",
            "\u001b[?25hBuilding wheels for collected packages: docopt\n",
            "  Building wheel for docopt (setup.py) ... \u001b[?25l\u001b[?25hdone\n",
            "  Created wheel for docopt: filename=docopt-0.6.2-py2.py3-none-any.whl size=13706 sha256=7fa5e168e4b123eaca1729f46614a17e6ce8a632524a5998704db89205c5faad\n",
            "  Stored in directory: /root/.cache/pip/wheels/fc/ab/d4/5da2067ac95b36618c629a5f93f809425700506f72c9732fac\n",
            "Successfully built docopt\n",
            "Installing collected packages: docopt, pyyaml, coverage, pytest-cov, coveralls, hanja\n",
            "  Attempting uninstall: pyyaml\n",
            "    Found existing installation: PyYAML 6.0.2\n",
            "    Uninstalling PyYAML-6.0.2:\n",
            "      Successfully uninstalled PyYAML-6.0.2\n",
            "Successfully installed coverage-7.6.9 coveralls-4.0.1 docopt-0.6.2 hanja-0.15.1 pytest-cov-6.0.0 pyyaml-6.0.1\n"
          ]
        }
      ]
    },
    {
      "cell_type": "markdown",
      "source": [
        "# 업로드한 파일들 통합"
      ],
      "metadata": {
        "id": "ttD6-ay8Oqzg"
      }
    },
    {
      "cell_type": "code",
      "source": [
        "from google.colab import files\n",
        "import pandas as pd\n",
        "\n",
        "# 1. 파일 업로드\n",
        "uploaded = files.upload()  # 로컬에서 파일 업로드\n",
        "file_list = list(uploaded.keys())  # 업로드된 파일 이름 리스트\n",
        "print(\"업로드한 파일 목록:\")\n",
        "print(file_list)\n",
        "\n",
        "# 2. .xlsx 파일 처리\n",
        "excel_files = [f for f in file_list if f.endswith('.xlsx')]  # 업로드된 엑셀 파일 목록 가져오기\n",
        "\n",
        "if not excel_files:\n",
        "    raise FileNotFoundError(\"업로드된 파일 중 '.xlsx' 확장자의 엑셀 파일이 없습니다.\")\n",
        "\n",
        "# 데이터프레임 통합\n",
        "dataframes = []\n",
        "for file_name in excel_files:\n",
        "    df = pd.read_excel(file_name)  # 엑셀 파일 읽기\n",
        "    dataframes.append(df)\n",
        "\n",
        "# 모든 데이터프레임 병합\n",
        "merged_df = pd.concat(dataframes, ignore_index=True)\n",
        "\n",
        "# 병합 결과 확인 (상위 5행 출력)\n",
        "print(\"병합된 데이터 (상위 5행):\")\n",
        "print(merged_df.head())\n",
        "\n",
        "# 3. 병합된 데이터를 새로운 엑셀 파일로 저장\n",
        "output_file = \"merged_excel.xlsx\"\n",
        "merged_df.to_excel(output_file, index=False)\n",
        "print(f\"병합된 데이터가 '{output_file}'로 저장되었습니다.\")\n",
        "\n",
        "# 4. 병합된 파일 다운로드\n",
        "files.download(output_file)"
      ],
      "metadata": {
        "colab": {
          "base_uri": "https://localhost:8080/",
          "height": 560
        },
        "id": "yMl5LwD3FH1w",
        "outputId": "9c2d31d8-9160-4b16-9aea-8e6b3a45a2bb"
      },
      "execution_count": null,
      "outputs": [
        {
          "output_type": "display_data",
          "data": {
            "text/plain": [
              "<IPython.core.display.HTML object>"
            ],
            "text/html": [
              "\n",
              "     <input type=\"file\" id=\"files-bc48b11d-88d9-4a9d-804d-5ba74a766b66\" name=\"files[]\" multiple disabled\n",
              "        style=\"border:none\" />\n",
              "     <output id=\"result-bc48b11d-88d9-4a9d-804d-5ba74a766b66\">\n",
              "      Upload widget is only available when the cell has been executed in the\n",
              "      current browser session. Please rerun this cell to enable.\n",
              "      </output>\n",
              "      <script>// Copyright 2017 Google LLC\n",
              "//\n",
              "// Licensed under the Apache License, Version 2.0 (the \"License\");\n",
              "// you may not use this file except in compliance with the License.\n",
              "// You may obtain a copy of the License at\n",
              "//\n",
              "//      http://www.apache.org/licenses/LICENSE-2.0\n",
              "//\n",
              "// Unless required by applicable law or agreed to in writing, software\n",
              "// distributed under the License is distributed on an \"AS IS\" BASIS,\n",
              "// WITHOUT WARRANTIES OR CONDITIONS OF ANY KIND, either express or implied.\n",
              "// See the License for the specific language governing permissions and\n",
              "// limitations under the License.\n",
              "\n",
              "/**\n",
              " * @fileoverview Helpers for google.colab Python module.\n",
              " */\n",
              "(function(scope) {\n",
              "function span(text, styleAttributes = {}) {\n",
              "  const element = document.createElement('span');\n",
              "  element.textContent = text;\n",
              "  for (const key of Object.keys(styleAttributes)) {\n",
              "    element.style[key] = styleAttributes[key];\n",
              "  }\n",
              "  return element;\n",
              "}\n",
              "\n",
              "// Max number of bytes which will be uploaded at a time.\n",
              "const MAX_PAYLOAD_SIZE = 100 * 1024;\n",
              "\n",
              "function _uploadFiles(inputId, outputId) {\n",
              "  const steps = uploadFilesStep(inputId, outputId);\n",
              "  const outputElement = document.getElementById(outputId);\n",
              "  // Cache steps on the outputElement to make it available for the next call\n",
              "  // to uploadFilesContinue from Python.\n",
              "  outputElement.steps = steps;\n",
              "\n",
              "  return _uploadFilesContinue(outputId);\n",
              "}\n",
              "\n",
              "// This is roughly an async generator (not supported in the browser yet),\n",
              "// where there are multiple asynchronous steps and the Python side is going\n",
              "// to poll for completion of each step.\n",
              "// This uses a Promise to block the python side on completion of each step,\n",
              "// then passes the result of the previous step as the input to the next step.\n",
              "function _uploadFilesContinue(outputId) {\n",
              "  const outputElement = document.getElementById(outputId);\n",
              "  const steps = outputElement.steps;\n",
              "\n",
              "  const next = steps.next(outputElement.lastPromiseValue);\n",
              "  return Promise.resolve(next.value.promise).then((value) => {\n",
              "    // Cache the last promise value to make it available to the next\n",
              "    // step of the generator.\n",
              "    outputElement.lastPromiseValue = value;\n",
              "    return next.value.response;\n",
              "  });\n",
              "}\n",
              "\n",
              "/**\n",
              " * Generator function which is called between each async step of the upload\n",
              " * process.\n",
              " * @param {string} inputId Element ID of the input file picker element.\n",
              " * @param {string} outputId Element ID of the output display.\n",
              " * @return {!Iterable<!Object>} Iterable of next steps.\n",
              " */\n",
              "function* uploadFilesStep(inputId, outputId) {\n",
              "  const inputElement = document.getElementById(inputId);\n",
              "  inputElement.disabled = false;\n",
              "\n",
              "  const outputElement = document.getElementById(outputId);\n",
              "  outputElement.innerHTML = '';\n",
              "\n",
              "  const pickedPromise = new Promise((resolve) => {\n",
              "    inputElement.addEventListener('change', (e) => {\n",
              "      resolve(e.target.files);\n",
              "    });\n",
              "  });\n",
              "\n",
              "  const cancel = document.createElement('button');\n",
              "  inputElement.parentElement.appendChild(cancel);\n",
              "  cancel.textContent = 'Cancel upload';\n",
              "  const cancelPromise = new Promise((resolve) => {\n",
              "    cancel.onclick = () => {\n",
              "      resolve(null);\n",
              "    };\n",
              "  });\n",
              "\n",
              "  // Wait for the user to pick the files.\n",
              "  const files = yield {\n",
              "    promise: Promise.race([pickedPromise, cancelPromise]),\n",
              "    response: {\n",
              "      action: 'starting',\n",
              "    }\n",
              "  };\n",
              "\n",
              "  cancel.remove();\n",
              "\n",
              "  // Disable the input element since further picks are not allowed.\n",
              "  inputElement.disabled = true;\n",
              "\n",
              "  if (!files) {\n",
              "    return {\n",
              "      response: {\n",
              "        action: 'complete',\n",
              "      }\n",
              "    };\n",
              "  }\n",
              "\n",
              "  for (const file of files) {\n",
              "    const li = document.createElement('li');\n",
              "    li.append(span(file.name, {fontWeight: 'bold'}));\n",
              "    li.append(span(\n",
              "        `(${file.type || 'n/a'}) - ${file.size} bytes, ` +\n",
              "        `last modified: ${\n",
              "            file.lastModifiedDate ? file.lastModifiedDate.toLocaleDateString() :\n",
              "                                    'n/a'} - `));\n",
              "    const percent = span('0% done');\n",
              "    li.appendChild(percent);\n",
              "\n",
              "    outputElement.appendChild(li);\n",
              "\n",
              "    const fileDataPromise = new Promise((resolve) => {\n",
              "      const reader = new FileReader();\n",
              "      reader.onload = (e) => {\n",
              "        resolve(e.target.result);\n",
              "      };\n",
              "      reader.readAsArrayBuffer(file);\n",
              "    });\n",
              "    // Wait for the data to be ready.\n",
              "    let fileData = yield {\n",
              "      promise: fileDataPromise,\n",
              "      response: {\n",
              "        action: 'continue',\n",
              "      }\n",
              "    };\n",
              "\n",
              "    // Use a chunked sending to avoid message size limits. See b/62115660.\n",
              "    let position = 0;\n",
              "    do {\n",
              "      const length = Math.min(fileData.byteLength - position, MAX_PAYLOAD_SIZE);\n",
              "      const chunk = new Uint8Array(fileData, position, length);\n",
              "      position += length;\n",
              "\n",
              "      const base64 = btoa(String.fromCharCode.apply(null, chunk));\n",
              "      yield {\n",
              "        response: {\n",
              "          action: 'append',\n",
              "          file: file.name,\n",
              "          data: base64,\n",
              "        },\n",
              "      };\n",
              "\n",
              "      let percentDone = fileData.byteLength === 0 ?\n",
              "          100 :\n",
              "          Math.round((position / fileData.byteLength) * 100);\n",
              "      percent.textContent = `${percentDone}% done`;\n",
              "\n",
              "    } while (position < fileData.byteLength);\n",
              "  }\n",
              "\n",
              "  // All done.\n",
              "  yield {\n",
              "    response: {\n",
              "      action: 'complete',\n",
              "    }\n",
              "  };\n",
              "}\n",
              "\n",
              "scope.google = scope.google || {};\n",
              "scope.google.colab = scope.google.colab || {};\n",
              "scope.google.colab._files = {\n",
              "  _uploadFiles,\n",
              "  _uploadFilesContinue,\n",
              "};\n",
              "})(self);\n",
              "</script> "
            ]
          },
          "metadata": {}
        },
        {
          "output_type": "stream",
          "name": "stdout",
          "text": [
            "Saving museum_data_sample1_1000.xlsx to museum_data_sample1_1000 (4).xlsx\n",
            "Saving museum_data_sample1000_2000.xlsx to museum_data_sample1000_2000 (4).xlsx\n",
            "Saving museum_data_sample2000_5000.xlsx to museum_data_sample2000_5000 (4).xlsx\n",
            "Saving museum_data_sample5001_6000.xlsx to museum_data_sample5001_6000 (4).xlsx\n",
            "Saving museum_data_sample6000_6389.xlsx to museum_data_sample6000_6389 (4).xlsx\n",
            "업로드한 파일 목록:\n",
            "['museum_data_sample1_1000 (4).xlsx', 'museum_data_sample1000_2000 (4).xlsx', 'museum_data_sample2000_5000 (4).xlsx', 'museum_data_sample5001_6000 (4).xlsx', 'museum_data_sample6000_6389 (4).xlsx']\n",
            "병합된 데이터 (상위 5행):\n",
            "  Document Type  Document Number                Document Title Document Form  \\\n",
            "0            기부                1           山口源固 소장 와(瓦), 토기 목록            문서   \n",
            "1            기부                2              山口源固 구장품(舊藏品) 목록            문서   \n",
            "2            기부                1  오사카 긴타로(大坂金太郞, 대판금태랑) 기증품 목록            문서   \n",
            "3            기부                1                           평가서            문서   \n",
            "4            기부                2      보물 백자투조모란문호(白磁透彫牡丹文壺) 기부            문서   \n",
            "\n",
            "                                                 URL  \n",
            "0  https://www.museum.go.kr/modern-history/doc.do...  \n",
            "1  https://www.museum.go.kr/modern-history/doc.do...  \n",
            "2  https://www.museum.go.kr/modern-history/doc.do...  \n",
            "3  https://www.museum.go.kr/modern-history/doc.do...  \n",
            "4  https://www.museum.go.kr/modern-history/doc.do...  \n",
            "병합된 데이터가 'merged_excel.xlsx'로 저장되었습니다.\n"
          ]
        },
        {
          "output_type": "display_data",
          "data": {
            "text/plain": [
              "<IPython.core.display.Javascript object>"
            ],
            "application/javascript": [
              "\n",
              "    async function download(id, filename, size) {\n",
              "      if (!google.colab.kernel.accessAllowed) {\n",
              "        return;\n",
              "      }\n",
              "      const div = document.createElement('div');\n",
              "      const label = document.createElement('label');\n",
              "      label.textContent = `Downloading \"${filename}\": `;\n",
              "      div.appendChild(label);\n",
              "      const progress = document.createElement('progress');\n",
              "      progress.max = size;\n",
              "      div.appendChild(progress);\n",
              "      document.body.appendChild(div);\n",
              "\n",
              "      const buffers = [];\n",
              "      let downloaded = 0;\n",
              "\n",
              "      const channel = await google.colab.kernel.comms.open(id);\n",
              "      // Send a message to notify the kernel that we're ready.\n",
              "      channel.send({})\n",
              "\n",
              "      for await (const message of channel.messages) {\n",
              "        // Send a message to notify the kernel that we're ready.\n",
              "        channel.send({})\n",
              "        if (message.buffers) {\n",
              "          for (const buffer of message.buffers) {\n",
              "            buffers.push(buffer);\n",
              "            downloaded += buffer.byteLength;\n",
              "            progress.value = downloaded;\n",
              "          }\n",
              "        }\n",
              "      }\n",
              "      const blob = new Blob(buffers, {type: 'application/binary'});\n",
              "      const a = document.createElement('a');\n",
              "      a.href = window.URL.createObjectURL(blob);\n",
              "      a.download = filename;\n",
              "      div.appendChild(a);\n",
              "      a.click();\n",
              "      div.remove();\n",
              "    }\n",
              "  "
            ]
          },
          "metadata": {}
        },
        {
          "output_type": "display_data",
          "data": {
            "text/plain": [
              "<IPython.core.display.Javascript object>"
            ],
            "application/javascript": [
              "download(\"download_88817fc6-15c7-422d-b73d-ec2afedec9de\", \"merged_excel.xlsx\", 885665)"
            ]
          },
          "metadata": {}
        }
      ]
    },
    {
      "cell_type": "markdown",
      "source": [
        "# 한글 한자 기반으로 토큰화"
      ],
      "metadata": {
        "id": "h3K32AdQO9Q1"
      }
    },
    {
      "cell_type": "code",
      "source": [
        "import pandas as pd\n",
        "import re\n",
        "from kiwipiepy import Kiwi\n",
        "\n",
        "# Kiwi 객체 생성\n",
        "kiwi = Kiwi()\n",
        "\n",
        "# 한글과 한자를 추출하는 함수 정의\n",
        "def extract_korean_and_hanja(text):\n",
        "    if pd.isna(text):  # NaN 값 처리\n",
        "        return ''\n",
        "    return ''.join(re.findall(r'[가-힣一-龥]+', text))  # 한글과 한자만 추출\n",
        "\n",
        "# 한글과 한자를 기반으로 토큰화하는 함수 정의\n",
        "def tokenize_korean_and_hanja(text):\n",
        "    filtered_text = extract_korean_and_hanja(text)  # 한글과 한자만 추출\n",
        "    if not filtered_text:  # 필터링된 텍스트가 없으면 빈 리스트 반환\n",
        "        return []\n",
        "    tokens = kiwi.tokenize(filtered_text)  # 형태소 분석\n",
        "    return [token.form for token in tokens]  # 모든 토큰의 원형 반환\n",
        "\n",
        "# 엑셀 파일 로드\n",
        "file_name = \"merged_excel (2).xlsx\"  # 업로드된 엑셀 파일 이름\n",
        "df = pd.read_excel(file_name)\n",
        "\n",
        "# Document Title 열에서 한글과 한자 추출 및 토큰화 수행\n",
        "if 'Document Title' in df.columns:  # 'Document Title' 열이 존재하는지 확인\n",
        "    df['Korean and Hanja Only'] = df['Document Title'].apply(extract_korean_and_hanja)  # 한글과 한자만 추출\n",
        "    df['Tokenized'] = df['Korean and Hanja Only'].apply(tokenize_korean_and_hanja)  # 토큰화 수행\n",
        "else:\n",
        "    raise KeyError(\"Error: 'Document Title' 열이 데이터프레임에 존재하지 않습니다.\")\n",
        "\n",
        "# 결과 출력 (상위 5행)\n",
        "print(df[['Document Title', 'Korean and Hanja Only', 'Tokenized']].head())"
      ],
      "metadata": {
        "colab": {
          "base_uri": "https://localhost:8080/"
        },
        "id": "cl4t4I4CHlT-",
        "outputId": "279bc3a6-b907-4015-d198-420118b479ff"
      },
      "execution_count": null,
      "outputs": [
        {
          "output_type": "stream",
          "name": "stdout",
          "text": [
            "                 Document Title Korean and Hanja Only  \\\n",
            "0           山口源固 소장 와(瓦), 토기 목록          山口源固소장와瓦토기목록   \n",
            "1              山口源固 구장품(舊藏品) 목록          山口源固구장품舊藏品목록   \n",
            "2  오사카 긴타로(大坂金太郞, 대판금태랑) 기증품 목록  오사카긴타로大坂太郞대판금태랑기증품목록   \n",
            "3                           평가서                   평가서   \n",
            "4      보물 백자투조모란문호(白磁透彫牡丹文壺) 기부   보물백자투조모란문호白磁透彫牡文壺기부   \n",
            "\n",
            "                                Tokenized  \n",
            "0             [山口源固, 소장, 오, 어, 瓦, 토기, 목록]  \n",
            "1                    [山口源固, 구장품, 舊藏品, 목록]  \n",
            "2  [오사카긴타로, 大坂太郞, 대, 판금, 태, 랑, 기증, 품목, 록]  \n",
            "3                                   [평가서]  \n",
            "4     [보물, 백자, 투, 조모, 란, 문호, 白磁透彫牡文壺, 기부]  \n"
          ]
        }
      ]
    },
    {
      "cell_type": "markdown",
      "source": [
        "# Document Type 열에서 데이터별 수량 카운트"
      ],
      "metadata": {
        "id": "BGJ7hQSXPiNS"
      }
    },
    {
      "cell_type": "code",
      "source": [
        "import pandas as pd\n",
        "\n",
        "# 엑셀 파일 로드\n",
        "file_name = \"merged_excel (2).xlsx\"  # 업로드된 엑셀 파일 이름\n",
        "df = pd.read_excel(file_name)\n",
        "\n",
        "# Document Type 열에서 데이터별 수량 카운트\n",
        "type_counts = df['Document Type'].value_counts()\n",
        "\n",
        "# 결과 출력\n",
        "print(\"Document Type별 데이터 수량:\")\n",
        "print(type_counts)"
      ],
      "metadata": {
        "colab": {
          "base_uri": "https://localhost:8080/"
        },
        "id": "F3g89T0cJ45F",
        "outputId": "b850ceb3-68fe-4a7b-f649-0da9007ce08c"
      },
      "execution_count": null,
      "outputs": [
        {
          "output_type": "stream",
          "name": "stdout",
          "text": [
            "Document Type별 데이터 수량:\n",
            "Document Type\n",
            "고적조사    6446\n",
            "보존      6167\n",
            "발견      4536\n",
            "지정      2418\n",
            "진열      2245\n",
            "구입      2121\n",
            "국유림      598\n",
            "기타       514\n",
            "도면       295\n",
            "기부       159\n",
            "Name: count, dtype: int64\n"
          ]
        }
      ]
    },
    {
      "cell_type": "code",
      "source": [
        "# 결과를 새로운 엑셀 파일로 저장 (선택 사항)\n",
        "output_file = \"document_type_counts.xlsx\"\n",
        "type_counts.to_excel(output_file, sheet_name=\"Type Counts\")\n",
        "print(f\"분석 결과가 '{output_file}'로 저장되었습니다.\")"
      ],
      "metadata": {
        "colab": {
          "base_uri": "https://localhost:8080/"
        },
        "id": "2DTY8l6hK8Jj",
        "outputId": "7f33eac8-15f8-4863-fbd3-6777c4ceca87"
      },
      "execution_count": null,
      "outputs": [
        {
          "output_type": "stream",
          "name": "stdout",
          "text": [
            "분석 결과가 'document_type_counts.xlsx'로 저장되었습니다.\n"
          ]
        }
      ]
    },
    {
      "cell_type": "markdown",
      "source": [
        "# Document Type별로 Document Form 데이터를 그룹화하고 수량 카운트"
      ],
      "metadata": {
        "id": "5TfPMF6OPnG7"
      }
    },
    {
      "cell_type": "code",
      "source": [
        "import pandas as pd\n",
        "\n",
        "# 엑셀 파일 로드\n",
        "file_name = \"merged_excel (2).xlsx\"  # 업로드된 엑셀 파일 이름\n",
        "df = pd.read_excel(file_name)\n",
        "\n",
        "# Document Type별로 Document Form 데이터를 그룹화하고 수량 카운트\n",
        "grouped = df.groupby('Document Type')['Document Form'].value_counts()\n",
        "\n",
        "# 결과를 데이터프레임으로 변환\n",
        "result_df = grouped.reset_index(name='Count')\n",
        "\n",
        "# 결과 출력\n",
        "print(\"Document Type별 Document Form 데이터 및 수량:\")\n",
        "print(result_df)"
      ],
      "metadata": {
        "colab": {
          "base_uri": "https://localhost:8080/"
        },
        "id": "d5cug11kKUQb",
        "outputId": "d79b4783-93c4-42b4-a0fd-9025b2b779bc"
      },
      "execution_count": null,
      "outputs": [
        {
          "output_type": "stream",
          "name": "stdout",
          "text": [
            "Document Type별 Document Form 데이터 및 수량:\n",
            "    Document Type Document Form  Count\n",
            "0            고적조사            문서   4245\n",
            "1            고적조사            도면    658\n",
            "2            고적조사            사진    599\n",
            "3            고적조사            표지    251\n",
            "4            고적조사            봉투    155\n",
            "..            ...           ...    ...\n",
            "114            진열            전보     19\n",
            "115            진열            목차     14\n",
            "116            진열            사진      9\n",
            "117            진열            견본      1\n",
            "118            진열            속지      1\n",
            "\n",
            "[119 rows x 3 columns]\n"
          ]
        }
      ]
    },
    {
      "cell_type": "code",
      "source": [
        "# 결과를 새로운 엑셀 파일로 저장 (선택 사항)\n",
        "output_file = \"document_type_form_counts.xlsx\"\n",
        "result_df.to_excel(output_file, index=False)\n",
        "print(f\"분석 결과가 '{output_file}'로 저장되었습니다.\")"
      ],
      "metadata": {
        "colab": {
          "base_uri": "https://localhost:8080/"
        },
        "id": "zAYQYR3TKuxj",
        "outputId": "d987a592-fa55-4658-dfe1-934e9209b9bb"
      },
      "execution_count": null,
      "outputs": [
        {
          "output_type": "stream",
          "name": "stdout",
          "text": [
            "분석 결과가 'document_type_form_counts.xlsx'로 저장되었습니다.\n"
          ]
        }
      ]
    },
    {
      "cell_type": "markdown",
      "source": [
        "# 다이쇼(大正) 텍스트가 포함된 데이터 추출"
      ],
      "metadata": {
        "id": "LxnXIX1cPsCg"
      }
    },
    {
      "cell_type": "code",
      "source": [
        "import pandas as pd\n",
        "from google.colab import files\n",
        "\n",
        "# 엑셀 파일 로드\n",
        "file_name = \"merged_excel (2).xlsx\"  # 업로드된 엑셀 파일 이름\n",
        "df = pd.read_excel(file_name)\n",
        "\n",
        "# \"다이쇼(大正)\" 텍스트가 포함된 행 필터링\n",
        "filtered_df = df[df['Document Title'].str.contains(\"다이쇼|大正\", na=False, case=False)]  # na=False로 NaN 값 처리\n",
        "\n",
        "# 필요한 열만 선택\n",
        "result_df = filtered_df[['Document Title', 'Document Type', 'Document Form', 'URL']]\n",
        "\n",
        "# 결과 출력\n",
        "print(\"다이쇼(大正)가 포함된 데이터:\")\n",
        "print(result_df)\n",
        "\n",
        "# 결과를 새로운 엑셀 파일로 저장\n",
        "output_file = \"filtered_daiisho_data.xlsx\"\n",
        "result_df.to_excel(output_file, index=False)\n",
        "print(f\"필터링된 데이터가 '{output_file}'로 저장되었습니다.\")\n",
        "\n",
        "# 다운로드\n",
        "files.download(output_file)"
      ],
      "metadata": {
        "colab": {
          "base_uri": "https://localhost:8080/",
          "height": 559
        },
        "id": "Wy6S4_ScLO_b",
        "outputId": "e2422555-bd80-4820-a777-a538cd9cc17c"
      },
      "execution_count": null,
      "outputs": [
        {
          "output_type": "stream",
          "name": "stdout",
          "text": [
            "다이쇼(大正)가 포함된 데이터:\n",
            "                                  Document Title Document Type Document Form  \\\n",
            "124                                  다이쇼(大正) 11년            기부            표지   \n",
            "213                 다이쇼(大正) 5년 6월 조사 개성 고분 사진 목록            진열            문서   \n",
            "215                   다이쇼(大正) 5년 8월 고적조사 사진원판 목록            진열            문서   \n",
            "217                다이쇼(大正) 5년 8~11월 고적조사 사진원판 목록            진열            문서   \n",
            "219                다이쇼(大正) 5년 9~11월 고적조사 사진원판 목록            진열            문서   \n",
            "...                                          ...           ...           ...   \n",
            "24831               다이쇼(大正) 13년 5월 및 6월 촬영 사진 목록          고적조사            문서   \n",
            "24832              다이쇼(大正) 13년 촬영 금관총 유물 사진 목록 1          고적조사            문서   \n",
            "24833              다이쇼(大正) 13년 촬영 금관총 유물 사진 목록 2          고적조사            문서   \n",
            "24834  다이쇼(大正) 13년 8월 촬영 교토(京都, 경도) 대학 소장품 사진 목록          고적조사            문서   \n",
            "25204    다이쇼(大正) 2년 조사 미야자키 현(宮崎縣) 내 고적도(古蹟圖) 목록            진열            문서   \n",
            "\n",
            "                                                     URL  \n",
            "124    https://www.museum.go.kr/modern-history/doc.do...  \n",
            "213    https://www.museum.go.kr/modern-history/doc.do...  \n",
            "215    https://www.museum.go.kr/modern-history/doc.do...  \n",
            "217    https://www.museum.go.kr/modern-history/doc.do...  \n",
            "219    https://www.museum.go.kr/modern-history/doc.do...  \n",
            "...                                                  ...  \n",
            "24831  https://www.museum.go.kr/modern-history/doc.do...  \n",
            "24832  https://www.museum.go.kr/modern-history/doc.do...  \n",
            "24833  https://www.museum.go.kr/modern-history/doc.do...  \n",
            "24834  https://www.museum.go.kr/modern-history/doc.do...  \n",
            "25204  https://www.museum.go.kr/modern-history/doc.do...  \n",
            "\n",
            "[303 rows x 4 columns]\n",
            "필터링된 데이터가 'filtered_daiisho_data.xlsx'로 저장되었습니다.\n"
          ]
        },
        {
          "output_type": "display_data",
          "data": {
            "text/plain": [
              "<IPython.core.display.Javascript object>"
            ],
            "application/javascript": [
              "\n",
              "    async function download(id, filename, size) {\n",
              "      if (!google.colab.kernel.accessAllowed) {\n",
              "        return;\n",
              "      }\n",
              "      const div = document.createElement('div');\n",
              "      const label = document.createElement('label');\n",
              "      label.textContent = `Downloading \"${filename}\": `;\n",
              "      div.appendChild(label);\n",
              "      const progress = document.createElement('progress');\n",
              "      progress.max = size;\n",
              "      div.appendChild(progress);\n",
              "      document.body.appendChild(div);\n",
              "\n",
              "      const buffers = [];\n",
              "      let downloaded = 0;\n",
              "\n",
              "      const channel = await google.colab.kernel.comms.open(id);\n",
              "      // Send a message to notify the kernel that we're ready.\n",
              "      channel.send({})\n",
              "\n",
              "      for await (const message of channel.messages) {\n",
              "        // Send a message to notify the kernel that we're ready.\n",
              "        channel.send({})\n",
              "        if (message.buffers) {\n",
              "          for (const buffer of message.buffers) {\n",
              "            buffers.push(buffer);\n",
              "            downloaded += buffer.byteLength;\n",
              "            progress.value = downloaded;\n",
              "          }\n",
              "        }\n",
              "      }\n",
              "      const blob = new Blob(buffers, {type: 'application/binary'});\n",
              "      const a = document.createElement('a');\n",
              "      a.href = window.URL.createObjectURL(blob);\n",
              "      a.download = filename;\n",
              "      div.appendChild(a);\n",
              "      a.click();\n",
              "      div.remove();\n",
              "    }\n",
              "  "
            ]
          },
          "metadata": {}
        },
        {
          "output_type": "display_data",
          "data": {
            "text/plain": [
              "<IPython.core.display.Javascript object>"
            ],
            "application/javascript": [
              "download(\"download_8e96c907-4a84-4b27-a606-0df8b9c72b52\", \"filtered_daiisho_data.xlsx\", 17465)"
            ]
          },
          "metadata": {}
        }
      ]
    },
    {
      "cell_type": "markdown",
      "source": [
        "# 경주 텍스트 데이터가 포함된 데이터 추출"
      ],
      "metadata": {
        "id": "6zqDv-CwPyav"
      }
    },
    {
      "cell_type": "code",
      "source": [
        "import pandas as pd\n",
        "from google.colab import files\n",
        "\n",
        "# 엑셀 파일 로드\n",
        "file_name = \"merged_excel (2).xlsx\"  # 업로드된 엑셀 파일 이름\n",
        "df = pd.read_excel(file_name)\n",
        "\n",
        "# \"경주|慶州\" 텍스트가 포함된 행 필터링\n",
        "filtered_df = df[df['Document Title'].str.contains(\"경주|慶州\", na=False, case=False)]  # na=False로 NaN 값 처리\n",
        "\n",
        "# 필요한 열만 선택\n",
        "result_df = filtered_df[['Document Title', 'Document Type', 'Document Form', 'URL']]\n",
        "\n",
        "# 결과 출력\n",
        "print(\"경주(慶州)가 포함된 데이터:\")\n",
        "print(result_df)\n",
        "\n",
        "# 결과를 새로운 엑셀 파일로 저장\n",
        "output_file = \"filtered_gyeongju_data.xlsx\"\n",
        "result_df.to_excel(output_file, index=False)\n",
        "print(f\"필터링된 데이터가 '{output_file}'로 저장되었습니다.\")\n",
        "\n",
        "# 다운로드\n",
        "files.download(output_file)"
      ],
      "metadata": {
        "colab": {
          "base_uri": "https://localhost:8080/",
          "height": 559
        },
        "id": "WPbw4JNGL8qu",
        "outputId": "ed3f939a-d551-4f56-bc2f-e4ec784db779"
      },
      "execution_count": null,
      "outputs": [
        {
          "output_type": "stream",
          "name": "stdout",
          "text": [
            "경주(慶州)가 포함된 데이터:\n",
            "                                  Document Title Document Type Document Form  \\\n",
            "448       물품 청구서 - 경주 김각간묘호석(金角干墓護石) 12신상(神像) 탁본            진열            문서   \n",
            "861      경주 수집품 목록 - 쇼와(昭和) 4년 4월 후지타(藤田, 등전) 위원            진열            문서   \n",
            "898    수집품 목록 - 다이쇼(大正) 12년도 오바(小場, 소장) 위원 경주 수집            진열            문서   \n",
            "952            목록 - 경주분관 진열품 쇼와(昭和) 5년 10월 현재 조사            진열            문서   \n",
            "953                             【목록 - 경주 분관 진열품】            진열            문서   \n",
            "...                                          ...           ...           ...   \n",
            "24653                               경주 국립공원 건설 건            기타            문서   \n",
            "24655                    경주읍 충효리 부근 철도선로 통과 건 진정            기타            문서   \n",
            "24656                    경주읍 충효리 부근 철도선로 통과 건 진정            기타            문서   \n",
            "24660    [도면] 경주군 경주읍 충효리 임야도 (축척 1/30) 중앙철도 예정선            기타            도면   \n",
            "24830         다이쇼(大正) 12년 봄 경주 금관총(金冠塚) 촬영 사진 목록          고적조사            문서   \n",
            "\n",
            "                                                     URL  \n",
            "448    https://www.museum.go.kr/modern-history/doc.do...  \n",
            "861    https://www.museum.go.kr/modern-history/doc.do...  \n",
            "898    https://www.museum.go.kr/modern-history/doc.do...  \n",
            "952    https://www.museum.go.kr/modern-history/doc.do...  \n",
            "953    https://www.museum.go.kr/modern-history/doc.do...  \n",
            "...                                                  ...  \n",
            "24653  https://www.museum.go.kr/modern-history/doc.do...  \n",
            "24655  https://www.museum.go.kr/modern-history/doc.do...  \n",
            "24656  https://www.museum.go.kr/modern-history/doc.do...  \n",
            "24660  https://www.museum.go.kr/modern-history/doc.do...  \n",
            "24830  https://www.museum.go.kr/modern-history/doc.do...  \n",
            "\n",
            "[393 rows x 4 columns]\n",
            "필터링된 데이터가 'filtered_gyeongju_data.xlsx'로 저장되었습니다.\n"
          ]
        },
        {
          "output_type": "display_data",
          "data": {
            "text/plain": [
              "<IPython.core.display.Javascript object>"
            ],
            "application/javascript": [
              "\n",
              "    async function download(id, filename, size) {\n",
              "      if (!google.colab.kernel.accessAllowed) {\n",
              "        return;\n",
              "      }\n",
              "      const div = document.createElement('div');\n",
              "      const label = document.createElement('label');\n",
              "      label.textContent = `Downloading \"${filename}\": `;\n",
              "      div.appendChild(label);\n",
              "      const progress = document.createElement('progress');\n",
              "      progress.max = size;\n",
              "      div.appendChild(progress);\n",
              "      document.body.appendChild(div);\n",
              "\n",
              "      const buffers = [];\n",
              "      let downloaded = 0;\n",
              "\n",
              "      const channel = await google.colab.kernel.comms.open(id);\n",
              "      // Send a message to notify the kernel that we're ready.\n",
              "      channel.send({})\n",
              "\n",
              "      for await (const message of channel.messages) {\n",
              "        // Send a message to notify the kernel that we're ready.\n",
              "        channel.send({})\n",
              "        if (message.buffers) {\n",
              "          for (const buffer of message.buffers) {\n",
              "            buffers.push(buffer);\n",
              "            downloaded += buffer.byteLength;\n",
              "            progress.value = downloaded;\n",
              "          }\n",
              "        }\n",
              "      }\n",
              "      const blob = new Blob(buffers, {type: 'application/binary'});\n",
              "      const a = document.createElement('a');\n",
              "      a.href = window.URL.createObjectURL(blob);\n",
              "      a.download = filename;\n",
              "      div.appendChild(a);\n",
              "      a.click();\n",
              "      div.remove();\n",
              "    }\n",
              "  "
            ]
          },
          "metadata": {}
        },
        {
          "output_type": "display_data",
          "data": {
            "text/plain": [
              "<IPython.core.display.Javascript object>"
            ],
            "application/javascript": [
              "download(\"download_d944f6d7-c698-488e-9908-08491de1c279\", \"filtered_gyeongju_data.xlsx\", 21082)"
            ]
          },
          "metadata": {}
        }
      ]
    },
    {
      "cell_type": "markdown",
      "source": [
        "# \"국유\" 텍스트가 포함된 행 필터링"
      ],
      "metadata": {
        "id": "o2t74aO3P5_r"
      }
    },
    {
      "cell_type": "code",
      "source": [
        "import pandas as pd\n",
        "from google.colab import files\n",
        "\n",
        "# 엑셀 파일 로드\n",
        "file_name = \"merged_excel (2).xlsx\"  # 업로드된 엑셀 파일 이름\n",
        "df = pd.read_excel(file_name)\n",
        "\n",
        "# \"국유\" 텍스트가 포함된 행 필터링\n",
        "filtered_df = df[df['Document Title'].str.contains(\"국유\", na=False, case=False)]  # na=False로 NaN 값 처리\n",
        "\n",
        "# 필요한 열만 선택\n",
        "result_df = filtered_df[['Document Title', 'Document Type', 'Document Form', 'URL']]\n",
        "\n",
        "# 결과 출력\n",
        "print(\"국유가 포함된 데이터:\")\n",
        "print(result_df)\n",
        "\n",
        "# 결과를 새로운 엑셀 파일로 저장\n",
        "output_file = \"nationalization_data.xlsx\"\n",
        "result_df.to_excel(output_file, index=False)\n",
        "print(f\"필터링된 데이터가 '{output_file}'로 저장되었습니다.\")\n",
        "\n",
        "# 다운로드\n",
        "files.download(output_file)"
      ],
      "metadata": {
        "colab": {
          "base_uri": "https://localhost:8080/",
          "height": 559
        },
        "id": "fD9MNjcTMSFP",
        "outputId": "ef268396-f960-4af0-cc08-9c588d58b47a"
      },
      "execution_count": null,
      "outputs": [
        {
          "output_type": "stream",
          "name": "stdout",
          "text": [
            "국유가 포함된 데이터:\n",
            "                                       Document Title Document Type  \\\n",
            "377                             인계품 목록 (국유탑비 이전 시 발견)            진열   \n",
            "1993                                       국유에 속하는 유물            진열   \n",
            "4498                                 매장물조서 [국유지(國有地)]            발견   \n",
            "4527                                매장물 조서 [국유지(國有地)]            발견   \n",
            "8844   경성부 효제정 소재의 국유재산에 대한 천연기념물 소재지 조사 건(對 4월 26일부)            지정   \n",
            "...                                               ...           ...   \n",
            "23540                                  국유 종각(鐘閣) 수리 건            보존   \n",
            "23548                                  국유 종각(鐘閣) 수리 건            보존   \n",
            "24136                                         삼국유사 강독            기타   \n",
            "24244                           [도면] 행암산(行岩山) 국유림 경계도            도면   \n",
            "24608                   [도면] 경상북도 경주군 서면 대곡리 국유림 (성지)          고적조사   \n",
            "\n",
            "      Document Form                                                URL  \n",
            "377              문서  https://www.museum.go.kr/modern-history/doc.do...  \n",
            "1993             문서  https://www.museum.go.kr/modern-history/doc.do...  \n",
            "4498             문서  https://www.museum.go.kr/modern-history/doc.do...  \n",
            "4527             문서  https://www.museum.go.kr/modern-history/doc.do...  \n",
            "8844             문서  https://www.museum.go.kr/modern-history/doc.do...  \n",
            "...             ...                                                ...  \n",
            "23540            문서  https://www.museum.go.kr/modern-history/doc.do...  \n",
            "23548            문서  https://www.museum.go.kr/modern-history/doc.do...  \n",
            "24136            문서  https://www.museum.go.kr/modern-history/doc.do...  \n",
            "24244            도면  https://www.museum.go.kr/modern-history/doc.do...  \n",
            "24608            도면  https://www.museum.go.kr/modern-history/doc.do...  \n",
            "\n",
            "[357 rows x 4 columns]\n",
            "필터링된 데이터가 'nationalization_data.xlsx'로 저장되었습니다.\n"
          ]
        },
        {
          "output_type": "display_data",
          "data": {
            "text/plain": [
              "<IPython.core.display.Javascript object>"
            ],
            "application/javascript": [
              "\n",
              "    async function download(id, filename, size) {\n",
              "      if (!google.colab.kernel.accessAllowed) {\n",
              "        return;\n",
              "      }\n",
              "      const div = document.createElement('div');\n",
              "      const label = document.createElement('label');\n",
              "      label.textContent = `Downloading \"${filename}\": `;\n",
              "      div.appendChild(label);\n",
              "      const progress = document.createElement('progress');\n",
              "      progress.max = size;\n",
              "      div.appendChild(progress);\n",
              "      document.body.appendChild(div);\n",
              "\n",
              "      const buffers = [];\n",
              "      let downloaded = 0;\n",
              "\n",
              "      const channel = await google.colab.kernel.comms.open(id);\n",
              "      // Send a message to notify the kernel that we're ready.\n",
              "      channel.send({})\n",
              "\n",
              "      for await (const message of channel.messages) {\n",
              "        // Send a message to notify the kernel that we're ready.\n",
              "        channel.send({})\n",
              "        if (message.buffers) {\n",
              "          for (const buffer of message.buffers) {\n",
              "            buffers.push(buffer);\n",
              "            downloaded += buffer.byteLength;\n",
              "            progress.value = downloaded;\n",
              "          }\n",
              "        }\n",
              "      }\n",
              "      const blob = new Blob(buffers, {type: 'application/binary'});\n",
              "      const a = document.createElement('a');\n",
              "      a.href = window.URL.createObjectURL(blob);\n",
              "      a.download = filename;\n",
              "      div.appendChild(a);\n",
              "      a.click();\n",
              "      div.remove();\n",
              "    }\n",
              "  "
            ]
          },
          "metadata": {}
        },
        {
          "output_type": "display_data",
          "data": {
            "text/plain": [
              "<IPython.core.display.Javascript object>"
            ],
            "application/javascript": [
              "download(\"download_7cb952eb-5de4-4849-b477-9e80dc52a328\", \"nationalization_data.xlsx\", 17915)"
            ]
          },
          "metadata": {}
        }
      ]
    },
    {
      "cell_type": "code",
      "source": [
        "import pandas as pd\n",
        "from google.colab import files\n",
        "\n",
        "# 엑셀 파일 로드\n",
        "file_name = \"merged_excel (2).xlsx\"  # 업로드된 엑셀 파일 이름\n",
        "df = pd.read_excel(file_name)\n",
        "\n",
        "# \"關野\" 텍스트가 포함된 행 필터링\n",
        "filtered_df = df[df['Document Title'].str.contains(\"關野\", na=False, case=False)]  # na=False로 NaN 값 처리\n",
        "\n",
        "# 필요한 열만 선택\n",
        "result_df = filtered_df[['Document Title', 'Document Type', 'Document Form', 'URL']]\n",
        "\n",
        "# 결과 출력\n",
        "print(\"關野 포함된 데이터:\")\n",
        "print(result_df)\n",
        "\n",
        "# 결과를 새로운 엑셀 파일로 저장\n",
        "output_file = \"guanyajung_data.xlsx\"\n",
        "result_df.to_excel(output_file, index=False)\n",
        "print(f\"필터링된 데이터가 '{output_file}'로 저장되었습니다.\")\n",
        "\n",
        "# 다운로드\n",
        "files.download(output_file)"
      ],
      "metadata": {
        "colab": {
          "base_uri": "https://localhost:8080/",
          "height": 1000
        },
        "id": "zk7_odPx2E4Y",
        "outputId": "e7554081-4d8e-4778-ee28-746a9c7ebeca"
      },
      "execution_count": null,
      "outputs": [
        {
          "output_type": "stream",
          "name": "stdout",
          "text": [
            "關野 포함된 데이터:\n",
            "                                          Document Title Document Type  \\\n",
            "367                 다이쇼(大正) 6년도 전기 고적조사 - 세키노(關野, 관야) 위원            진열   \n",
            "421    임시현금전도관리(臨時現金前渡官吏) 세키노 다다시(關野貞, 관야정) 중국[支那] 구입...            진열   \n",
            "503                         고적조사 수집품 목록 - 세키노(關野, 관야) 위원            진열   \n",
            "523              목록 - 다이쇼(大正) 10년 10월 세키노(關野, 관야) 위원 수집품            진열   \n",
            "538            수집품 목록 - 다이쇼(大正) 11년 5월 세키노(關野, 관야) 위원 수집            진열   \n",
            "831       수집품 목록 - 다이쇼(大正) 13년 10월 세키노(關野, 관야) 위원 채수(採收)            진열   \n",
            "1123                채집품 목록 - 사와(澤, 택) 촉탁, 세키노(關野, 관야) 위원            진열   \n",
            "1489     세키노 다다시(關野貞, 관야정)가 다케베(武部, 무부) 학무국장에게 보낸 내신(來信)            진열   \n",
            "2118               세키노 다다시(關野貞, 관야정) 해외 유학에 따른 조사, 기타 촉탁            구입   \n",
            "2119                 세키노 다다시(關野貞, 관야정)의 물품 수집에 필요한 금액 증액            구입   \n",
            "11750                  【결재용 표지 - 세키노(關野, 관야) 고적조사위원 복명서】          고적조사   \n",
            "12752             고적조사 보고서 - 세키노 다다시(關野貞, 관야정) 고적조사위원 제출          고적조사   \n",
            "13587                  [편지] 세키노(關野, 관야)박사 영사비(永思碑)에 관한 건          고적조사   \n",
            "14055                            세키노(關野, 관야) 박사 수정안(修正案)          고적조사   \n",
            "15202        평남 대동군 시족면 및 용강군 황산 남록(南麓) 고분 - 세키노(關野, 관야)          고적조사   \n",
            "15484         세키노(關野, 관야) 공학박사 제2회 조사 사진목록 - 메이지(明治) 43년          고적조사   \n",
            "15485  세키노(關野, 관야) 박사 조사(제3회) 메이지(明治) 44년 촬영 조선 유적 사진 목록          고적조사   \n",
            "20104                    고인 세키노(關野, 관야) 박사 기념 사업 보조 방안 건          고적조사   \n",
            "20110                      고인 세키노(關野, 관야) 박사 논문 전재(轉載) 건          고적조사   \n",
            "21279         다이쇼(大正) 15년도 세키노 다다시(關野貞, 관야정) 촬영 낙랑 유물 목록            보존   \n",
            "21478                 세키노 다다시(關野貞, 관야정) 부석사(浮石寺) 방문 여비 건            보존   \n",
            "21484                   문부성 세키노 다다시(關野貞, 관야정)씨로부터의 편지 일절            보존   \n",
            "21485                           세키노 다다시(關野貞, 관야정)의 편지 원본            보존   \n",
            "21585  부석사(浮石寺) 무량수전(無量壽殿) 및 조사당(祖師堂)에 대한 세키노(關野, 관야)...            보존   \n",
            "23113  금산사(金山寺) 대장전(大藏殿) 이전 건에 대한 세키노 다다시(關野貞, 관야정) 씨...            보존   \n",
            "\n",
            "      Document Form                                                URL  \n",
            "367              문서  https://www.museum.go.kr/modern-history/doc.do...  \n",
            "421              문서  https://www.museum.go.kr/modern-history/doc.do...  \n",
            "503              문서  https://www.museum.go.kr/modern-history/doc.do...  \n",
            "523              문서  https://www.museum.go.kr/modern-history/doc.do...  \n",
            "538              문서  https://www.museum.go.kr/modern-history/doc.do...  \n",
            "831              문서  https://www.museum.go.kr/modern-history/doc.do...  \n",
            "1123             문서  https://www.museum.go.kr/modern-history/doc.do...  \n",
            "1489             문서  https://www.museum.go.kr/modern-history/doc.do...  \n",
            "2118             문서  https://www.museum.go.kr/modern-history/doc.do...  \n",
            "2119             문서  https://www.museum.go.kr/modern-history/doc.do...  \n",
            "11750            문서  https://www.museum.go.kr/modern-history/doc.do...  \n",
            "12752            문서  https://www.museum.go.kr/modern-history/doc.do...  \n",
            "13587            문서  https://www.museum.go.kr/modern-history/doc.do...  \n",
            "14055            문서  https://www.museum.go.kr/modern-history/doc.do...  \n",
            "15202            문서  https://www.museum.go.kr/modern-history/doc.do...  \n",
            "15484            문서  https://www.museum.go.kr/modern-history/doc.do...  \n",
            "15485            문서  https://www.museum.go.kr/modern-history/doc.do...  \n",
            "20104            문서  https://www.museum.go.kr/modern-history/doc.do...  \n",
            "20110            문서  https://www.museum.go.kr/modern-history/doc.do...  \n",
            "21279            문서  https://www.museum.go.kr/modern-history/doc.do...  \n",
            "21478            문서  https://www.museum.go.kr/modern-history/doc.do...  \n",
            "21484            문서  https://www.museum.go.kr/modern-history/doc.do...  \n",
            "21485            문서  https://www.museum.go.kr/modern-history/doc.do...  \n",
            "21585            문서  https://www.museum.go.kr/modern-history/doc.do...  \n",
            "23113            문서  https://www.museum.go.kr/modern-history/doc.do...  \n",
            "필터링된 데이터가 'guanyajung_data.xlsx'로 저장되었습니다.\n"
          ]
        },
        {
          "output_type": "display_data",
          "data": {
            "text/plain": [
              "<IPython.core.display.Javascript object>"
            ],
            "application/javascript": [
              "\n",
              "    async function download(id, filename, size) {\n",
              "      if (!google.colab.kernel.accessAllowed) {\n",
              "        return;\n",
              "      }\n",
              "      const div = document.createElement('div');\n",
              "      const label = document.createElement('label');\n",
              "      label.textContent = `Downloading \"${filename}\": `;\n",
              "      div.appendChild(label);\n",
              "      const progress = document.createElement('progress');\n",
              "      progress.max = size;\n",
              "      div.appendChild(progress);\n",
              "      document.body.appendChild(div);\n",
              "\n",
              "      const buffers = [];\n",
              "      let downloaded = 0;\n",
              "\n",
              "      const channel = await google.colab.kernel.comms.open(id);\n",
              "      // Send a message to notify the kernel that we're ready.\n",
              "      channel.send({})\n",
              "\n",
              "      for await (const message of channel.messages) {\n",
              "        // Send a message to notify the kernel that we're ready.\n",
              "        channel.send({})\n",
              "        if (message.buffers) {\n",
              "          for (const buffer of message.buffers) {\n",
              "            buffers.push(buffer);\n",
              "            downloaded += buffer.byteLength;\n",
              "            progress.value = downloaded;\n",
              "          }\n",
              "        }\n",
              "      }\n",
              "      const blob = new Blob(buffers, {type: 'application/binary'});\n",
              "      const a = document.createElement('a');\n",
              "      a.href = window.URL.createObjectURL(blob);\n",
              "      a.download = filename;\n",
              "      div.appendChild(a);\n",
              "      a.click();\n",
              "      div.remove();\n",
              "    }\n",
              "  "
            ]
          },
          "metadata": {}
        },
        {
          "output_type": "display_data",
          "data": {
            "text/plain": [
              "<IPython.core.display.Javascript object>"
            ],
            "application/javascript": [
              "download(\"download_c41055e0-ae9b-4afc-97b9-5d9dfef8f0c0\", \"guanyajung_data.xlsx\", 6807)"
            ]
          },
          "metadata": {}
        }
      ]
    }
  ]
}